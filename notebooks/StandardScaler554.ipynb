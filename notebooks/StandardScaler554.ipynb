{
 "cells": [
  {
   "cell_type": "code",
   "execution_count": 2,
   "id": "bdf862c2",
   "metadata": {},
   "outputs": [],
   "source": [
    "import numpy as np\n",
    "import pandas as pd\n",
    "import matplotlib.pyplot as plt\n",
    "\n",
    "from sklearn import datasets\n",
    "from sklearn.datasets import make_regression\n",
    "from sklearn.model_selection import train_test_split\n",
    "import pickle\n",
    "import joblib\n",
    "\n",
    "from sklearn.linear_model import LinearRegression\n",
    "from sklearn.svm import SVR\n",
    "from sklearn.linear_model import SGDRegressor\n",
    "from sklearn.ensemble import RandomForestRegressor\n",
    "\n",
    "from sklearn.metrics import mean_squared_error\n",
    "from sklearn.metrics import r2_score"
   ]
  },
  {
   "cell_type": "code",
   "execution_count": 3,
   "id": "26400c66",
   "metadata": {},
   "outputs": [],
   "source": [
    "diamonds = pd.read_csv('./data/diamondsql.csv')"
   ]
  },
  {
   "cell_type": "code",
   "execution_count": 4,
   "id": "98adcde0",
   "metadata": {},
   "outputs": [],
   "source": [
    "diamonds = diamonds.drop(['index_id', 'city_id', 'city_id.1','index_id.1','cut_id', 'color_id', 'clarity_id', 'cut_id.1', 'clarity_id.1', 'color_id.1', 'index_id.2'], axis = 1)"
   ]
  },
  {
   "cell_type": "code",
   "execution_count": 5,
   "id": "0ba55f27",
   "metadata": {},
   "outputs": [],
   "source": [
    "diamonds_encoded = pd.get_dummies(diamonds, columns=['city', 'cut', 'clarity', 'color'])"
   ]
  },
  {
   "cell_type": "code",
   "execution_count": 6,
   "id": "a8993884",
   "metadata": {},
   "outputs": [],
   "source": [
    "X = diamonds_encoded.drop('price', axis=1)\n",
    "y = diamonds_encoded['price']"
   ]
  },
  {
   "cell_type": "code",
   "execution_count": 7,
   "id": "14133386",
   "metadata": {},
   "outputs": [
    {
     "name": "stdout",
     "output_type": "stream",
     "text": [
      "X_train: (32364, 39), X_test: (8091, 39), y_train: (32364,), y_test: (8091,)\n"
     ]
    }
   ],
   "source": [
    "X_train, X_test, y_train, y_test = train_test_split(X, y, test_size=0.2, random_state=42)\n",
    "print(f\"X_train: {X_train.shape}, X_test: {X_test.shape}, y_train: {y_train.shape}, y_test: {y_test.shape}\")\n"
   ]
  },
  {
   "cell_type": "code",
   "execution_count": 8,
   "id": "d65fe73f",
   "metadata": {},
   "outputs": [],
   "source": [
    "\n",
    "# Calcular la matriz de correlación\n",
    "correlation_matrix = diamonds_encoded.corr()\n",
    "\n",
    "# Seleccionar la variable objetivo (en este ejemplo, 'price') y ordenar las correlaciones en orden descendente\n",
    "target_correlation = correlation_matrix['price'].sort_values(ascending=False)\n",
    "\n",
    "# Definir un umbral de correlación por encima del cual consideraremos que las características están altamente correlacionadas con la variable objetivo\n",
    "correlation_threshold = 0.5\n",
    "\n",
    "# Filtrar las características que tienen una correlación por encima del umbral\n",
    "selected_features = target_correlation[abs(target_correlation) > correlation_threshold].index.tolist()\n",
    "\n",
    "# Eliminar la variable objetivo de la lista de características seleccionadas\n",
    "selected_features.remove('price')\n",
    "\n",
    "# Seleccionar solo las características que pasan el umbral de correlación\n",
    "df_selected = diamonds_encoded[selected_features]\n"
   ]
  },
  {
   "cell_type": "code",
   "execution_count": 9,
   "id": "7e276a6c",
   "metadata": {},
   "outputs": [
    {
     "name": "stdout",
     "output_type": "stream",
     "text": [
      "RMSE: 563.917903331059\n"
     ]
    },
    {
     "name": "stderr",
     "output_type": "stream",
     "text": [
      "/Users/guillemorato/miniconda3/envs/sklearn_/lib/python3.12/site-packages/sklearn/metrics/_regression.py:483: FutureWarning: 'squared' is deprecated in version 1.4 and will be removed in 1.6. To calculate the root mean squared error, use the function'root_mean_squared_error'.\n",
      "  warnings.warn(\n"
     ]
    }
   ],
   "source": [
    "from sklearn.preprocessing import StandardScaler\n",
    "scaler = StandardScaler()\n",
    "X_train_scaled = scaler.fit_transform(X_train)\n",
    "X_test_scaled = scaler.transform(X_test)\n",
    "\n",
    "# Entrenar el modelo de Random Forest\n",
    "model = RandomForestRegressor(n_estimators=100, random_state=42)\n",
    "model.fit(X_train_scaled, y_train)\n",
    "\n",
    "# Realizar predicciones en el conjunto de prueba\n",
    "y_pred = model.predict(X_test_scaled)\n",
    "\n",
    "# Calcular el RMSE\n",
    "rmse = mean_squared_error(y_test, y_pred, squared=False)\n",
    "print(\"RMSE:\", rmse)"
   ]
  },
  {
   "cell_type": "code",
   "execution_count": 10,
   "id": "61baaf76",
   "metadata": {},
   "outputs": [],
   "source": [
    "diamonds_test = pd.read_csv('./data/diamonds_test.csv')"
   ]
  },
  {
   "cell_type": "code",
   "execution_count": 11,
   "id": "c4b765bb",
   "metadata": {},
   "outputs": [],
   "source": [
    "diamonds_encoded_test = pd.get_dummies(diamonds_test, columns=['city', 'cut', 'clarity', 'color'])"
   ]
  },
  {
   "cell_type": "code",
   "execution_count": 13,
   "id": "841aa8ae",
   "metadata": {},
   "outputs": [],
   "source": [
    "X_prueba = diamonds_encoded_test.drop('id', axis=1)\n",
    "X_prueba_scaled = scaler.transform(X_prueba)\n",
    "y_prueba_pred = model.predict(X_prueba_scaled)\n"
   ]
  },
  {
   "cell_type": "code",
   "execution_count": 15,
   "id": "881e9b3c",
   "metadata": {},
   "outputs": [],
   "source": [
    "solution = []\n",
    "for i, value in enumerate(y_prueba_pred):\n",
    "    solution.append((i,value))\n",
    "    "
   ]
  },
  {
   "cell_type": "code",
   "execution_count": 16,
   "id": "a9325be0",
   "metadata": {},
   "outputs": [],
   "source": [
    "solution_df = pd.DataFrame(solution)\n"
   ]
  },
  {
   "cell_type": "code",
   "execution_count": 17,
   "id": "bd8c46a6",
   "metadata": {},
   "outputs": [],
   "source": [
    "solution_df.columns = ['id', 'price']"
   ]
  },
  {
   "cell_type": "code",
   "execution_count": 18,
   "id": "ec977992",
   "metadata": {},
   "outputs": [],
   "source": [
    "solution_df['price'].to_csv('StandarScaler.csv')"
   ]
  },
  {
   "cell_type": "code",
   "execution_count": null,
   "id": "74e7a75c",
   "metadata": {},
   "outputs": [],
   "source": []
  }
 ],
 "metadata": {
  "kernelspec": {
   "display_name": "Python (sklearn_)",
   "language": "python",
   "name": "sklearn_"
  },
  "language_info": {
   "codemirror_mode": {
    "name": "ipython",
    "version": 3
   },
   "file_extension": ".py",
   "mimetype": "text/x-python",
   "name": "python",
   "nbconvert_exporter": "python",
   "pygments_lexer": "ipython3",
   "version": "3.12.1"
  }
 },
 "nbformat": 4,
 "nbformat_minor": 5
}
